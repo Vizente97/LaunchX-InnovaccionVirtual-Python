{
  "cells": [
    {
      "cell_type": "markdown",
      "metadata": {},
      "source": [
        "# Ejercicio: Uso de funciones en Python"
      ]
    },
    {
      "cell_type": "markdown",
      "metadata": {},
      "source": [
        "### Ejercicio 1: Trabajar con argumentos en funciones\n",
        "\n",
        "Los argumentos requeridos en las funciones se utilizan cuando las funciones necesitan que esos argumentos funcionen correctamente. En este ejercicio, construirás un informe de combustible que requiere información de varias ubicaciones de combustible en todo el cohete.\n",
        "\n"
      ]
    },
    {
      "cell_type": "markdown",
      "metadata": {},
      "source": [
        "> **TIP**\n",
        "> Dedica unos minutos para tratar de encontrar una solución. Luego desplázate hacia abajo hasta la parte inferior para ver si has logrado compilar el programa de acuerdo con las especificaciones\n",
        "\n",
        "Comienza por crear una función que necesite tres lecturas de combustible y devuelva un informe:"
      ]
    },
    {
      "cell_type": "code",
      "execution_count": 3,
      "metadata": {},
      "outputs": [],
      "source": [
        "# Función para leer 3 tanques de combustible y muestre el promedio\n",
        "def avg_tank(lv1,lv2,lv3):\n",
        "    average_tank = (int(lv1)+int(lv2)+int(lv3))/3\n",
        "    print(\"\"\"    ***** Resultados *****\n",
        "    Nivel of the first tank: {}\n",
        "    Nivel of the second tank: {}\n",
        "    Nivel of the third tank: {}\n",
        "    *******************************\n",
        "    * Average: {}\n",
        "    *******************************\n",
        "    \"\"\".format(lv1, lv2, lv3, average_tank))"
      ]
    },
    {
      "cell_type": "markdown",
      "metadata": {},
      "source": [
        "Ahora que hemos definido la función de informes, vamos a comprobarlo. Para esta misión, los tanques no están llenos:"
      ]
    },
    {
      "cell_type": "code",
      "execution_count": 4,
      "metadata": {},
      "outputs": [
        {
          "name": "stdout",
          "output_type": "stream",
          "text": [
            "    ***** Resultados *****\n",
            "    Nivel of the first tank: 34\n",
            "    Nivel of the second tank: 69\n",
            "    Nivel of the third tank: 15\n",
            "    *******************************\n",
            "    * Average: 39.333333333333336\n",
            "    *******************************\n",
            "    \n"
          ]
        }
      ],
      "source": [
        "# Llamamos a la función que genera el reporte print(funcion(tanque1, tanque2, tanque3))\n",
        "avg_tank(34,69,15)"
      ]
    },
    {
      "cell_type": "markdown",
      "metadata": {},
      "source": [
        "En lugar de simplemente crear el informe, la función también está calculando el promedio. Mejora la legibilidad extrayendo el cálculo promedio de la función en una nueva función para que el promedio se pueda hacer de forma independiente:"
      ]
    },
    {
      "cell_type": "code",
      "execution_count": 6,
      "metadata": {},
      "outputs": [
        {
          "name": "stdout",
          "output_type": "stream",
          "text": [
            "44.333333333333336\n"
          ]
        }
      ],
      "source": [
        "# Función promedio \n",
        "def average(values):\n",
        "    return sum(values)/len(values)\n",
        "\n",
        "print(average([40, 35, 58]))"
      ]
    },
    {
      "cell_type": "markdown",
      "metadata": {},
      "source": [
        "Ahora actualiza la función de informes para llamando a la nueva función del promedio:\n"
      ]
    },
    {
      "cell_type": "code",
      "execution_count": 7,
      "metadata": {},
      "outputs": [
        {
          "name": "stdout",
          "output_type": "stream",
          "text": [
            "    ***** Resultados *****\n",
            "    Nivel of the first tank: 40\n",
            "    Nivel of the second tank: 35\n",
            "    Nivel of the third tank: 58\n",
            "    *******************************\n",
            "    * Average: 44.333333333333336\n",
            "    *******************************\n",
            "    \n"
          ]
        }
      ],
      "source": [
        "# Actualiza la función\n",
        "def avg_tank(lv1,lv2,lv3):\n",
        "    average_tank = average([lv1, lv2, lv3])\n",
        "    print(\"\"\"    ***** Resultados *****\n",
        "    Nivel of the first tank: {}\n",
        "    Nivel of the second tank: {}\n",
        "    Nivel of the third tank: {}\n",
        "    *******************************\n",
        "    * Average: {}\n",
        "    *******************************\n",
        "    \"\"\".format(lv1, lv2, lv3, average_tank))\n",
        "\n",
        "avg_tank(40,35,58)"
      ]
    },
    {
      "cell_type": "markdown",
      "metadata": {},
      "source": [
        "> Recuerda: Lo importante es intentarlo, puedes auxiliarte de internet, libros, etc. El objetivo de una kata es la comprobación de la comprensión de la lección y su aplicación inmediata a la resolución de problemas. Go for it!"
      ]
    },
    {
      "cell_type": "markdown",
      "metadata": {},
      "source": [
        "## Ejercicio 2: Trabajo con argumentos de palabra clave"
      ]
    },
    {
      "cell_type": "markdown",
      "metadata": {},
      "source": [
        "### Ejercicio : Trabajar con argumentos de palabras clave en funciones\n",
        "En este ejercicio, construirás un informe de cohete que requiere varias piezas de información, como el tiempo hasta el destino, el combustible a la izquierda y el nombre del destino. Comienza por crear una función que creará un informe preciso de la misión:"
      ]
    },
    {
      "cell_type": "code",
      "execution_count": 6,
      "metadata": {},
      "outputs": [
        {
          "name": "stdout",
          "output_type": "stream",
          "text": [
            "    ***** Report *****\n",
            "    Destination: Moon\n",
            "    Final time: 65 minutes\n",
            "    Final fuel: 500000 gallons\n",
            "    \n"
          ]
        }
      ],
      "source": [
        "# Función con un informe preciso de la misión. Considera hora de prelanzamiento, tiempo de vuelo, destino, tanque externo y tanque interno\n",
        "def report(time_pre_launch, time_flight, destination, external_tank, intern_tank):\n",
        "    print(\"\"\"    ***** Report *****\n",
        "    Destination: {}\n",
        "    Final time: {} minutes\n",
        "    Final fuel: {} gallons\n",
        "    \"\"\".format(destination,time_pre_launch + time_flight,external_tank + intern_tank))\n",
        "\n",
        "report(14, 51, \"Moon\", 200000, 300000)"
      ]
    },
    {
      "cell_type": "markdown",
      "metadata": {},
      "source": [
        "La función es problemática porque no se puede adaptar para minutos adicionales o tanques adicionales de combustible. Hazlo más flexible permitiendo cualquier número de pasos basados en el tiempo y cualquier número de tanques. En lugar de usar `*args` y `**kwargs`, aprovecha el hecho de que puedes usar cualquier nombre que desees. Asegurate que la función sea más legible mediante el uso de nombres de variables que están asociados con las entradas, como `*minutes` y `**fuel_reservoirs`:"
      ]
    },
    {
      "cell_type": "code",
      "execution_count": 8,
      "metadata": {},
      "outputs": [
        {
          "name": "stdout",
          "output_type": "stream",
          "text": [
            "    ***** Report *****\n",
            "    Destination: Moon\n",
            "    Final time: 76 minutes\n",
            "    Final fuel: 500000 gallons\n",
            "    \n"
          ]
        }
      ],
      "source": [
        "# Escribe tu nueva función de reporte considerando lo anterior\n",
        "def report_v2(destination, *times, **tank_levels):\n",
        "    print(\"\"\"    ***** Report *****\n",
        "    Destination: {}\n",
        "    Final time: {} minutes\n",
        "    Final fuel: {} gallons\n",
        "    \"\"\".format(destination,sum(times),sum(tank_levels.values())))\n",
        "\n",
        "report_v2(\"Moon\", 10, 15, 51, main=300000, external=200000)"
      ]
    },
    {
      "cell_type": "markdown",
      "metadata": {},
      "source": [
        "Debido a que el combustible que queda en los tanques es específico de cada tanque, actualiza la función para usar el nombre de cada tanque en el informe:"
      ]
    },
    {
      "cell_type": "code",
      "execution_count": 12,
      "metadata": {},
      "outputs": [
        {
          "name": "stdout",
          "output_type": "stream",
          "text": [
            "    ***** Full Report *****\n",
            "    Destination: Moon\n",
            "    Final time: 74 minutes\n",
            "    \n",
            "    Level of main: 300000 gallons\n",
            "    Level of external: 200000 gallons\n"
          ]
        }
      ],
      "source": [
        "# Escribe tu nueva función\n",
        "def report_v3(destination, *times, **tank_levels):\n",
        "    print(\"\"\"    ***** Full Report *****\n",
        "    Destination: {}\n",
        "    Final time: {} minutes\n",
        "    \"\"\".format(destination,sum(times)))\n",
        "    for tank_name,level in tank_levels.items():\n",
        "        print(\"    Level of \"+tank_name+\": \"+str(level)+\" gallons\")\n",
        "\n",
        "report_v3(\"Moon\", 8, 11, 55, main=300000, external=200000)"
      ]
    }
  ],
  "metadata": {
    "interpreter": {
      "hash": "205095b8b86ea82a021a8fc2ffba2b3bc9f8d0be25999901963b225939f75778"
    },
    "kernelspec": {
      "display_name": "Python 3.8.10 64-bit ('tmp': conda)",
      "name": "python3"
    },
    "language_info": {
      "codemirror_mode": {
        "name": "ipython",
        "version": 3
      },
      "file_extension": ".py",
      "mimetype": "text/x-python",
      "name": "python",
      "nbconvert_exporter": "python",
      "pygments_lexer": "ipython3",
      "version": "3.9.1"
    },
    "nteract": {
      "version": "nteract-front-end@1.0.0"
    },
    "orig_nbformat": 4
  },
  "nbformat": 4,
  "nbformat_minor": 2
}
