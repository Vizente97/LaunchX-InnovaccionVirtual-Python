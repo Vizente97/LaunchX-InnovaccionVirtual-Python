{
  "cells": [
    {
      "cell_type": "markdown",
      "metadata": {},
      "source": [
        "## Crear un entorno virtual\n",
        "\n",
        "Crea un entorno virtual mediante ``venv``\n",
        "\n",
        "* Ejecutar en su terminal: ``python3 -m venv env`` o bien ``python -m venv env``"
      ]
    },
    {
      "cell_type": "markdown",
      "metadata": {},
      "source": [
        "<img src='https://cdn.discordapp.com/attachments/941141693795811338/941141710753370122/unknown.png'>"
      ]
    },
    {
      "cell_type": "markdown",
      "metadata": {},
      "source": [
        "<img src='https://cdn.discordapp.com/attachments/941141693795811338/941141946200653834/unknown.png'>"
      ]
    },
    {
      "cell_type": "markdown",
      "metadata": {},
      "source": [
        "* Ejecuta el comando para activar el entorno virtual: ``env\\Scripts\\activate.bat``\n",
        "\n",
        "<img src='https://cdn.discordapp.com/attachments/941141693795811338/941142646024450138/unknown.png'>"
      ]
    },
    {
      "cell_type": "markdown",
      "metadata": {},
      "source": [
        "## Instalar una biblioteca\n",
        "\n",
        "Ahora que estás dentro de tu entorno virtual, puedes instalar una biblioteca y saber que la biblioteca solo existirá en el entorno virtual.\n",
        "\n",
        "* Ejecuta el comando ``pip freeze`` para ver las bibliotecas instaladas en tu entorno:\n",
        "\n",
        "<img src='https://cdn.discordapp.com/attachments/941141693795811338/941142957522813018/unknown.png'>\n",
        "\n",
        "* Ejecuta el comando ``pip install python-dateutil`` para instalar una biblioteca:\n",
        "\n",
        "<img src='https://cdn.discordapp.com/attachments/941141693795811338/941143556607836190/unknown.png'>\n",
        "\n",
        "* Vuelve a ejecutar ```pip freeze``` para ver cómo ha cambiado tu lista de bibliotecas:\n",
        "\n",
        "<img src='https://cdn.discordapp.com/attachments/941141693795811338/941143847713513523/unknown.png'>"
      ]
    },
    {
      "cell_type": "markdown",
      "metadata": {},
      "source": [
        "### Desactivar un entorno virtual\n",
        "\n",
        "Hasta ahora, has creado un entorno virtual y le has agregado un paquete. Sin embargo, es posible que estés trabajando en varios proyectos de Python y necesites cambiar entre ellos. Para hacer eso, debes salir (desactivar) tu entorno virtual.\n",
        "\n",
        "Ejecuta el comando ``env\\Scripts\\deactivate.bat``:\n",
        "\n",
        "<img src='https://cdn.discordapp.com/attachments/941141693795811338/941144149837631569/unknown.png'>"
      ]
    }
  ],
  "metadata": {
    "kernel_info": {
      "name": "conda-env-py37_default-py"
    },
    "kernelspec": {
      "display_name": "py37_default",
      "language": "python",
      "name": "conda-env-py37_default-py"
    },
    "language_info": {
      "codemirror_mode": {
        "name": "ipython",
        "version": 3
      },
      "file_extension": ".py",
      "mimetype": "text/x-python",
      "name": "python",
      "nbconvert_exporter": "python",
      "pygments_lexer": "ipython3",
      "version": "3.7.9"
    },
    "nteract": {
      "version": "nteract-front-end@1.0.0"
    },
    "orig_nbformat": 4
  },
  "nbformat": 4,
  "nbformat_minor": 2
}
